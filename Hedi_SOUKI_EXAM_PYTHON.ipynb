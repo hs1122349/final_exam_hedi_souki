{
  "nbformat": 4,
  "nbformat_minor": 0,
  "metadata": {
    "colab": {
      "provenance": []
    },
    "kernelspec": {
      "name": "python3",
      "display_name": "Python 3"
    },
    "language_info": {
      "name": "python"
    }
  },
  "cells": [
    {
      "cell_type": "markdown",
      "source": [
        "HEDI SOUKI - DSBI - PGE4 - FINAL EXAM"
      ],
      "metadata": {
        "id": "lAS_2LGKfwYx"
      }
    },
    {
      "cell_type": "code",
      "execution_count": 1,
      "metadata": {
        "colab": {
          "base_uri": "https://localhost:8080/"
        },
        "id": "WMO8K66eMA-C",
        "outputId": "b5a450ca-992d-43c4-c24e-6507d80cd89d"
      },
      "outputs": [
        {
          "output_type": "stream",
          "name": "stdout",
          "text": [
            "The square of 1 is 1\n",
            "The square of 2 is 4\n",
            "The square of 3 is 9\n",
            "The square of 4 is 16\n",
            "The square of 5 is 25\n",
            "The square of 6 is 36\n",
            "The square of 7 is 49\n",
            "The square of 8 is 64\n",
            "The square of 9 is 81\n",
            "The square of 10 is 100\n",
            "The square of 11 is 121\n",
            "The square of 12 is 144\n",
            "The square of 13 is 169\n",
            "The square of 14 is 196\n",
            "The square of 15 is 225\n",
            "The square of 16 is 256\n",
            "The square of 17 is 289\n",
            "The square of 18 is 324\n"
          ]
        }
      ],
      "source": [
        "# Task 1:\n",
        "\n",
        "# Loop through numbers from 1 to 18 included (19 is out)\n",
        "for num in range(1, 19):\n",
        "    # Calculate the square of the current number\n",
        "    square = num ** 2\n",
        "    # print the result of the function that will use text and the Num and his square\n",
        "    print(f\"The square of {num} is {square}\")"
      ]
    },
    {
      "cell_type": "code",
      "source": [
        "# Task 2: check grades\n",
        "\n",
        "def check_grades(grades):\n",
        "    # Loop through each grade in the list\n",
        "    for grade in grades:\n",
        "        # If grade is 75 or above, print \"Pass\"\n",
        "        if grade >= 75:\n",
        "            print(f\"Grade {grade}: Pass\")\n",
        "        else:\n",
        "            # Otherwise print \"No\"\n",
        "            print(f\"Grade {grade}: No\")\n",
        "\n",
        "# Test the function with at least 5 grades\n",
        "test_grades = [90, 74, 88, 65, 75]\n",
        "check_grades(test_grades)\n"
      ],
      "metadata": {
        "colab": {
          "base_uri": "https://localhost:8080/"
        },
        "id": "7E1Q7JaXQlLZ",
        "outputId": "2071374f-70b3-4c5c-fe53-bb39e1fcdc8c"
      },
      "execution_count": 2,
      "outputs": [
        {
          "output_type": "stream",
          "name": "stdout",
          "text": [
            "Grade 90: Pass\n",
            "Grade 74: No\n",
            "Grade 88: Pass\n",
            "Grade 65: No\n",
            "Grade 75: Pass\n"
          ]
        }
      ]
    },
    {
      "cell_type": "code",
      "source": [
        "# Task 3: count vowels\n",
        "\n",
        "def count_vowels(text):\n",
        "    # Define vowels\n",
        "    vowels = \"aeiou\"\n",
        "    # Convert text to lowercase for easy comparison\n",
        "    text_lower = text.lower()\n",
        "\n",
        "    # Initialize a dictionary to count each vowel\n",
        "    vowel_counts = {v: 0 for v in vowels}\n",
        "\n",
        "    # Loop through each character in the text\n",
        "    for char in text_lower:\n",
        "        # If the character is a vowel, increment its count\n",
        "        if char in vowel_counts:\n",
        "            vowel_counts[char] += 1\n",
        "\n",
        "    # Total vowels count\n",
        "    total_vowels = sum(vowel_counts.values())\n",
        "\n",
        "    # Print total number of vowels\n",
        "    print(f\"Total vowels in the text: {total_vowels}\")\n",
        "\n",
        "    # Print how many times each vowel appears\n",
        "    for vowel, count in vowel_counts.items():\n",
        "        print(f\"'{vowel}' appears {count} times\")\n",
        "\n",
        "# The string that was given to do the counts of the\n",
        "sample_text = \"'That which cannot be measured cannot be proven'. Anthony W. Richardson\"\n",
        "count_vowels(sample_text)\n"
      ],
      "metadata": {
        "colab": {
          "base_uri": "https://localhost:8080/"
        },
        "id": "ecLBb6o0Qjpu",
        "outputId": "54afed6e-2296-49de-ee51-7eccceaca530"
      },
      "execution_count": 3,
      "outputs": [
        {
          "output_type": "stream",
          "name": "stdout",
          "text": [
            "Total vowels in the text: 19\n",
            "'a' appears 6 times\n",
            "'e' appears 5 times\n",
            "'i' appears 2 times\n",
            "'o' appears 5 times\n",
            "'u' appears 1 times\n"
          ]
        }
      ]
    },
    {
      "cell_type": "markdown",
      "source": [],
      "metadata": {
        "id": "qb6YXKDZfrjX"
      }
    },
    {
      "cell_type": "code",
      "source": [
        "# Task 4:\n",
        "\n",
        "numbers = []  # List to store valid numeric inputs\n",
        "\n",
        "while True:\n",
        "    # Ask the user for input\n",
        "    user_input = input(\"Enter a number (or type 'done' to finish): \")\n",
        "\n",
        "    # If the user types 'done' (case insensitive), break the loop\n",
        "    if user_input.lower() == \"done\":\n",
        "        break\n",
        "\n",
        "    # Skip empty inputs\n",
        "    if user_input.strip() == \"\":\n",
        "        print(\"Invalid input. Try again.\")\n",
        "        continue\n",
        "\n",
        "    # Check if the input is a valid number\n",
        "    try:\n",
        "        num = float(user_input)  # Convert to float\n",
        "        numbers.append(num)  # Add to the list\n",
        "    except ValueError:\n",
        "        # If not a valid number, show message\n",
        "        print(\"Invalid input. Try again.\")\n",
        "\n",
        "# After the loop ends, calculate and print results\n",
        "if len(numbers) > 0:\n",
        "    total_values = len(numbers)  # Count of entered numbers\n",
        "    average_value = round(sum(numbers) / total_values, 2)  # Average rounded to 2 decimals (0.00)\n",
        "    print(f\"You entered {total_values} valid numbers.\")\n",
        "    print(f\"The average of the numbers is {average_value}\")\n",
        "else:\n",
        "    print(\"No valid numbers were entered.\")"
      ],
      "metadata": {
        "colab": {
          "base_uri": "https://localhost:8080/"
        },
        "id": "okUwo4sjSGc8",
        "outputId": "c43fcbcc-0e47-4830-8492-63db41a58d11"
      },
      "execution_count": 4,
      "outputs": [
        {
          "output_type": "stream",
          "name": "stdout",
          "text": [
            "Enter a number (or type 'done' to finish): 4\n",
            "Enter a number (or type 'done' to finish): 5\n",
            "Enter a number (or type 'done' to finish): 6\n",
            "Enter a number (or type 'done' to finish): 7\n",
            "Enter a number (or type 'done' to finish): 8\n",
            "Enter a number (or type 'done' to finish): 9\n",
            "Enter a number (or type 'done' to finish): 1\n",
            "Enter a number (or type 'done' to finish): 2\n",
            "Enter a number (or type 'done' to finish): DONE\n",
            "You entered 8 valid numbers.\n",
            "The average of the numbers is 5.25\n"
          ]
        }
      ]
    },
    {
      "cell_type": "code",
      "source": [
        "# Task 5:\n",
        "\n",
        "# Sample purchase data given in the exercise\n",
        "purchases = [(\"Alice\", 120), (\"Bob\", 80), (\"Alice\", 50), (\"Bob\", 20), (\"Clara\", 200)]\n",
        "\n",
        "# Dictionary to store total purchases per customer\n",
        "customer_totals = {}\n",
        "\n",
        "# Loop through each purchase record\n",
        "for customer, amount in purchases:\n",
        "    # If customer not yet in dictionary, initialize with 0\n",
        "    if customer not in customer_totals:\n",
        "        customer_totals[customer] = 0\n",
        "    # Add the current purchase amount\n",
        "    customer_totals[customer] += amount\n",
        "\n",
        "# Print how much each customer spent\n",
        "for customer, total in customer_totals.items():\n",
        "    print(f\"{customer} spent ${total}\")"
      ],
      "metadata": {
        "colab": {
          "base_uri": "https://localhost:8080/"
        },
        "id": "y0i9NSYeSd7i",
        "outputId": "7f89e884-e709-4757-f981-a075fe2e7736"
      },
      "execution_count": 5,
      "outputs": [
        {
          "output_type": "stream",
          "name": "stdout",
          "text": [
            "Alice spent $170\n",
            "Bob spent $100\n",
            "Clara spent $200\n"
          ]
        }
      ]
    },
    {
      "cell_type": "code",
      "source": [
        "# Task 6: Get population data for Iceland (2010-2020) using wbdata (I couldn't use the data another way was shown at the end of the exercise)\n",
        "\n",
        "import wbdata  # World Bank data API\n",
        "import datetime\n",
        "\n",
        "# Define the country (ISO code for Iceland)\n",
        "country_code = \"ISL\"\n",
        "\n",
        "# Define the indicator for population\n",
        "indicator = {\"SP.POP.TOTL\": \"Population\"}\n",
        "\n",
        "# Set the date range from 2010 to 2020\n",
        "start_date = datetime.datetime(2010, 1, 1)\n",
        "end_date = datetime.datetime(2020, 12, 31)\n",
        "\n",
        "data = wbdata.get_dataframe(indicator, country=country_code, data_date=(start_date, end_date))\n",
        "\n",
        "# Reset the index to make it easier to read\n",
        "data_reset = data.reset_index()\n",
        "\n",
        "# Print the results in a readable way like asked (country,year,pop)\n",
        "for _, row in data_reset.iterrows():\n",
        "    year = row['date'].year\n",
        "    population = row['Population']\n",
        "    print(f\"Iceland, {year}: Population = {population}\")"
      ],
      "metadata": {
        "colab": {
          "base_uri": "https://localhost:8080/",
          "height": 393
        },
        "id": "AnDCvfdJSlkK",
        "outputId": "29604bd5-81ae-4cdc-c19b-a8876e95090f"
      },
      "execution_count": 7,
      "outputs": [
        {
          "output_type": "error",
          "ename": "ModuleNotFoundError",
          "evalue": "No module named 'wbdata'",
          "traceback": [
            "\u001b[0;31m---------------------------------------------------------------------------\u001b[0m",
            "\u001b[0;31mModuleNotFoundError\u001b[0m                       Traceback (most recent call last)",
            "\u001b[0;32m/tmp/ipython-input-7-306861224.py\u001b[0m in \u001b[0;36m<cell line: 0>\u001b[0;34m()\u001b[0m\n\u001b[1;32m      1\u001b[0m \u001b[0;31m# Task 6: Get population data for Iceland (2010-2020) using wbdata\u001b[0m\u001b[0;34m\u001b[0m\u001b[0;34m\u001b[0m\u001b[0m\n\u001b[1;32m      2\u001b[0m \u001b[0;34m\u001b[0m\u001b[0m\n\u001b[0;32m----> 3\u001b[0;31m \u001b[0;32mimport\u001b[0m \u001b[0mwbdata\u001b[0m  \u001b[0;31m# World Bank data API\u001b[0m\u001b[0;34m\u001b[0m\u001b[0;34m\u001b[0m\u001b[0m\n\u001b[0m\u001b[1;32m      4\u001b[0m \u001b[0;32mimport\u001b[0m \u001b[0mdatetime\u001b[0m\u001b[0;34m\u001b[0m\u001b[0;34m\u001b[0m\u001b[0m\n\u001b[1;32m      5\u001b[0m \u001b[0;34m\u001b[0m\u001b[0m\n",
            "\u001b[0;31mModuleNotFoundError\u001b[0m: No module named 'wbdata'",
            "",
            "\u001b[0;31m---------------------------------------------------------------------------\u001b[0;32m\nNOTE: If your import is failing due to a missing package, you can\nmanually install dependencies using either !pip or !apt.\n\nTo view examples of installing some common dependencies, click the\n\"Open Examples\" button below.\n\u001b[0;31m---------------------------------------------------------------------------\u001b[0m\n"
          ],
          "errorDetails": {
            "actions": [
              {
                "action": "open_url",
                "actionText": "Open Examples",
                "url": "/notebooks/snippets/importing_libraries.ipynb"
              }
            ]
          }
        }
      ]
    },
    {
      "cell_type": "code",
      "source": [
        "!pip install wbdata"
      ],
      "metadata": {
        "colab": {
          "base_uri": "https://localhost:8080/",
          "height": 974
        },
        "id": "p7zEV69uTDtW",
        "outputId": "84a4adc3-dba1-4238-a14e-a9028a30c55d"
      },
      "execution_count": 8,
      "outputs": [
        {
          "output_type": "stream",
          "name": "stdout",
          "text": [
            "Collecting wbdata\n",
            "  Downloading wbdata-1.0.0-py3-none-any.whl.metadata (2.6 kB)\n",
            "Collecting appdirs<2.0,>=1.4 (from wbdata)\n",
            "  Downloading appdirs-1.4.4-py2.py3-none-any.whl.metadata (9.0 kB)\n",
            "Collecting backoff<3.0.0,>=2.2.1 (from wbdata)\n",
            "  Downloading backoff-2.2.1-py3-none-any.whl.metadata (14 kB)\n",
            "Requirement already satisfied: cachetools<6.0.0,>=5.3.2 in /usr/local/lib/python3.11/dist-packages (from wbdata) (5.5.2)\n",
            "Collecting dateparser<2.0.0,>=1.2.0 (from wbdata)\n",
            "  Downloading dateparser-1.2.2-py3-none-any.whl.metadata (29 kB)\n",
            "Collecting decorator<6.0.0,>=5.1.1 (from wbdata)\n",
            "  Downloading decorator-5.2.1-py3-none-any.whl.metadata (3.9 kB)\n",
            "Requirement already satisfied: requests<3.0,>=2.0 in /usr/local/lib/python3.11/dist-packages (from wbdata) (2.32.3)\n",
            "Collecting shelved-cache<0.4.0,>=0.3.1 (from wbdata)\n",
            "  Downloading shelved_cache-0.3.1-py3-none-any.whl.metadata (4.7 kB)\n",
            "Collecting tabulate<0.9.0,>=0.8.5 (from wbdata)\n",
            "  Downloading tabulate-0.8.10-py3-none-any.whl.metadata (25 kB)\n",
            "Requirement already satisfied: python-dateutil>=2.7.0 in /usr/local/lib/python3.11/dist-packages (from dateparser<2.0.0,>=1.2.0->wbdata) (2.9.0.post0)\n",
            "Requirement already satisfied: pytz>=2024.2 in /usr/local/lib/python3.11/dist-packages (from dateparser<2.0.0,>=1.2.0->wbdata) (2025.2)\n",
            "Requirement already satisfied: regex>=2024.9.11 in /usr/local/lib/python3.11/dist-packages (from dateparser<2.0.0,>=1.2.0->wbdata) (2024.11.6)\n",
            "Requirement already satisfied: tzlocal>=0.2 in /usr/local/lib/python3.11/dist-packages (from dateparser<2.0.0,>=1.2.0->wbdata) (5.3.1)\n",
            "Requirement already satisfied: charset-normalizer<4,>=2 in /usr/local/lib/python3.11/dist-packages (from requests<3.0,>=2.0->wbdata) (3.4.2)\n",
            "Requirement already satisfied: idna<4,>=2.5 in /usr/local/lib/python3.11/dist-packages (from requests<3.0,>=2.0->wbdata) (3.10)\n",
            "Requirement already satisfied: urllib3<3,>=1.21.1 in /usr/local/lib/python3.11/dist-packages (from requests<3.0,>=2.0->wbdata) (2.4.0)\n",
            "Requirement already satisfied: certifi>=2017.4.17 in /usr/local/lib/python3.11/dist-packages (from requests<3.0,>=2.0->wbdata) (2025.7.14)\n",
            "Requirement already satisfied: six>=1.5 in /usr/local/lib/python3.11/dist-packages (from python-dateutil>=2.7.0->dateparser<2.0.0,>=1.2.0->wbdata) (1.17.0)\n",
            "Downloading wbdata-1.0.0-py3-none-any.whl (18 kB)\n",
            "Downloading appdirs-1.4.4-py2.py3-none-any.whl (9.6 kB)\n",
            "Downloading backoff-2.2.1-py3-none-any.whl (15 kB)\n",
            "Downloading dateparser-1.2.2-py3-none-any.whl (315 kB)\n",
            "\u001b[2K   \u001b[90m━━━━━━━━━━━━━━━━━━━━━━━━━━━━━━━━━━━━━━━━\u001b[0m \u001b[32m315.5/315.5 kB\u001b[0m \u001b[31m9.8 MB/s\u001b[0m eta \u001b[36m0:00:00\u001b[0m\n",
            "\u001b[?25hDownloading decorator-5.2.1-py3-none-any.whl (9.2 kB)\n",
            "Downloading shelved_cache-0.3.1-py3-none-any.whl (7.8 kB)\n",
            "Downloading tabulate-0.8.10-py3-none-any.whl (29 kB)\n",
            "Installing collected packages: appdirs, tabulate, shelved-cache, decorator, backoff, dateparser, wbdata\n",
            "  Attempting uninstall: tabulate\n",
            "    Found existing installation: tabulate 0.9.0\n",
            "    Uninstalling tabulate-0.9.0:\n",
            "      Successfully uninstalled tabulate-0.9.0\n",
            "  Attempting uninstall: decorator\n",
            "    Found existing installation: decorator 4.4.2\n",
            "    Uninstalling decorator-4.4.2:\n",
            "      Successfully uninstalled decorator-4.4.2\n",
            "\u001b[31mERROR: pip's dependency resolver does not currently take into account all the packages that are installed. This behaviour is the source of the following dependency conflicts.\n",
            "ipython 7.34.0 requires jedi>=0.16, which is not installed.\n",
            "bigframes 2.10.0 requires tabulate>=0.9, but you have tabulate 0.8.10 which is incompatible.\n",
            "moviepy 1.0.3 requires decorator<5.0,>=4.0.2, but you have decorator 5.2.1 which is incompatible.\u001b[0m\u001b[31m\n",
            "\u001b[0mSuccessfully installed appdirs-1.4.4 backoff-2.2.1 dateparser-1.2.2 decorator-5.2.1 shelved-cache-0.3.1 tabulate-0.8.10 wbdata-1.0.0\n"
          ]
        },
        {
          "output_type": "display_data",
          "data": {
            "application/vnd.colab-display-data+json": {
              "pip_warning": {
                "packages": [
                  "decorator"
                ]
              },
              "id": "2db08d44d4ce4b71b87ea32971f5af1b"
            }
          },
          "metadata": {}
        }
      ]
    },
    {
      "cell_type": "code",
      "source": [
        "import requests #http library to be able to import the data from a URL since I was not able to ( we gotta find solutions right ?)\n",
        "import pandas as pd #we import a library that helps us do tables and visualise our data, we use as pd to be faster when rewritting it\n",
        "\n",
        "# World Bank API URL for Iceland population (SP.POP.TOTL) from 2010-2020 (from the world bank API link cleaned)\n",
        "# we use the ISO code from the country on the URL after country and we input the dates we need in the URL\n",
        "url = \"http://api.worldbank.org/v2/country/ISL/indicator/SP.POP.TOTL?date=2010:2020&format=json\"\n",
        "\n",
        "# Fetch the data of a back end document, the one we imported with in the URL\n",
        "response = requests.get(url).json()\n",
        "\n",
        "# Extract population data\n",
        "population_data = response[1]  # The second element contains actual data from the URL we imported\n",
        "\n",
        "# make it a DataFrame thanks to panda the cutie analyser\n",
        "df = pd.DataFrame([\n",
        "    {\"Year\": int(item[\"date\"]), \"Country\": item[\"country\"][\"value\"], \"Population\": int(item[\"value\"])}\n",
        "    for item in population_data if item[\"value\"] is not None\n",
        "])\n",
        "\n",
        "# sort by year ascending\n",
        "df = df.sort_values(by=\"Year\")\n",
        "\n",
        "# Print in a readable way like asked we use iterrwows to iterate and read the data from teh DF one by one and then print them line by line (country, year, population)\n",
        "for _, row in df.iterrows():\n",
        "    print(f\"{row['Country']}, {row['Year']}: Population = {row['Population']}\")\n"
      ],
      "metadata": {
        "colab": {
          "base_uri": "https://localhost:8080/"
        },
        "id": "I4Jm6nrhTJjs",
        "outputId": "e3c9004c-ea4c-45f8-d817-665b78815e78"
      },
      "execution_count": 9,
      "outputs": [
        {
          "output_type": "stream",
          "name": "stdout",
          "text": [
            "Iceland, 2010: Population = 318041\n",
            "Iceland, 2011: Population = 319014\n",
            "Iceland, 2012: Population = 320716\n",
            "Iceland, 2013: Population = 323764\n",
            "Iceland, 2014: Population = 327386\n",
            "Iceland, 2015: Population = 330815\n",
            "Iceland, 2016: Population = 335439\n",
            "Iceland, 2017: Population = 343400\n",
            "Iceland, 2018: Population = 352721\n",
            "Iceland, 2019: Population = 360563\n",
            "Iceland, 2020: Population = 366463\n"
          ]
        }
      ]
    }
  ]
}